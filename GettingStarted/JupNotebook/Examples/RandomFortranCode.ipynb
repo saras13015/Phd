{
 "cells": [
  {
   "cell_type": "code",
   "execution_count": 9,
   "metadata": {},
   "outputs": [
    {
     "ename": "SyntaxError",
     "evalue": "invalid syntax (<ipython-input-9-1d2a2d3fdbe2>, line 1)",
     "output_type": "error",
     "traceback": [
      "\u001b[0;36m  File \u001b[0;32m\"<ipython-input-9-1d2a2d3fdbe2>\"\u001b[0;36m, line \u001b[0;32m1\u001b[0m\n\u001b[0;31m    program simple_print\u001b[0m\n\u001b[0m            ^\u001b[0m\n\u001b[0;31mSyntaxError\u001b[0m\u001b[0;31m:\u001b[0m invalid syntax\n"
     ]
    }
   ],
   "source": [
    "program simple_print\n",
    "    print *,'This Fortran program just prints a line.'\n",
    "end program simple_print"
   ]
  },
  {
   "cell_type": "code",
   "execution_count": 2,
   "metadata": {},
   "outputs": [
    {
     "name": "stderr",
     "output_type": "stream",
     "text": [
      "At line 4 of file /tmp/tmpb7xopg7b.f90 (unit = 5, file = 'stdin')\n",
      "Fortran runtime error: End of file\n"
     ]
    },
    {
     "name": "stdout",
     "output_type": "stream",
     "text": [
      " What year were you born?\n"
     ]
    },
    {
     "name": "stderr",
     "output_type": "stream",
     "text": [
      "\n",
      "Error termination. Backtrace:\n",
      "#0  0x7f0ff3c3ad21 in ???\n",
      "[Fortran kernel] Executable exited with code 2"
     ]
    }
   ],
   "source": [
    "program get_age\n",
    "    real :: year, age\n",
    "    print *, 'What year were you born?'\n",
    "    read *, year\n",
    "    age = 2020 - year\n",
    "    print *, 'Your age is', age\n",
    "end program get_age"
   ]
  },
  {
   "cell_type": "code",
   "execution_count": 7,
   "metadata": {},
   "outputs": [
    {
     "name": "stdout",
     "output_type": "stream",
     "text": [
      "Overwriting get_age.f95\n"
     ]
    }
   ],
   "source": [
    "%%writefile get_age.f95\n",
    "\n",
    "program get_age\n",
    "    real :: year, age\n",
    "    print *, 'What year were you born?'\n",
    "    read *, year\n",
    "    age = 2022 - year\n",
    "    print *, 'Your age is', age\n",
    "end program get_age"
   ]
  },
  {
   "cell_type": "code",
   "execution_count": 10,
   "metadata": {},
   "outputs": [
    {
     "name": "stdout",
     "output_type": "stream",
     "text": [
      " What year were you born?\n",
      " Your age is   38.0000000    \n"
     ]
    }
   ],
   "source": [
    "%%bash\n",
    "\n",
    "gfortran -ffree-form get_age.f95\n",
    "./a.out\n",
    "1984"
   ]
  },
  {
   "cell_type": "code",
   "execution_count": null,
   "metadata": {},
   "outputs": [],
   "source": []
  },
  {
   "cell_type": "code",
   "execution_count": null,
   "metadata": {},
   "outputs": [],
   "source": []
  }
 ],
 "metadata": {
  "kernelspec": {
   "display_name": "Python 3",
   "language": "python",
   "name": "python3"
  },
  "language_info": {
   "codemirror_mode": {
    "name": "ipython",
    "version": 3
   },
   "file_extension": ".py",
   "mimetype": "text/x-python",
   "name": "python",
   "nbconvert_exporter": "python",
   "pygments_lexer": "ipython3",
   "version": "3.8.5"
  }
 },
 "nbformat": 4,
 "nbformat_minor": 4
}
